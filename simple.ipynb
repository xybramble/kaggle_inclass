{
 "cells": [
  {
   "cell_type": "code",
   "execution_count": 70,
   "metadata": {},
   "outputs": [],
   "source": [
    "import pandas as pd\n",
    "import numpy as np\n",
    "from sklearn import preprocessing\n",
    "import seaborn as sns"
   ]
  },
  {
   "cell_type": "code",
   "execution_count": 71,
   "metadata": {},
   "outputs": [],
   "source": [
    "#load train and test data\n",
    "train = pd.read_csv('train.csv')\n",
    "test = pd.read_csv('test.csv')"
   ]
  },
  {
   "cell_type": "code",
   "execution_count": 72,
   "metadata": {},
   "outputs": [
    {
     "name": "stdout",
     "output_type": "stream",
     "text": [
      "7\n",
      "[56.66666666666666, 49.38333333333333, 51.28333333333333, 92.63333333333334, 78.7, 113.8, 63.8]\n"
     ]
    }
   ],
   "source": [
    "#use 3σ to find outliers\n",
    "def three_sigma(data_series):\n",
    "    rule = (data_series.mean() - 3 * data_series.std() > data_series) | (data_series.mean() + 3 * data_series.std() < data_series)\n",
    "    index = np.arange(data_series.shape[0])[rule]\n",
    "    outliers = data_series.iloc[index]\n",
    "    return outliers.tolist()\n",
    "# data_series = pd.Series(data)\n",
    "outliers = three_sigma(train['playtime_forever'])\n",
    "print(len(outliers))\n",
    "print(outliers)"
   ]
  },
  {
   "cell_type": "code",
   "execution_count": 73,
   "metadata": {},
   "outputs": [
    {
     "data": {
      "text/html": [
       "<div>\n",
       "<style scoped>\n",
       "    .dataframe tbody tr th:only-of-type {\n",
       "        vertical-align: middle;\n",
       "    }\n",
       "\n",
       "    .dataframe tbody tr th {\n",
       "        vertical-align: top;\n",
       "    }\n",
       "\n",
       "    .dataframe thead th {\n",
       "        text-align: right;\n",
       "    }\n",
       "</style>\n",
       "<table border=\"1\" class=\"dataframe\">\n",
       "  <thead>\n",
       "    <tr style=\"text-align: right;\">\n",
       "      <th></th>\n",
       "      <th>id</th>\n",
       "      <th>playtime_forever</th>\n",
       "      <th>is_free</th>\n",
       "      <th>price</th>\n",
       "      <th>genres</th>\n",
       "      <th>categories</th>\n",
       "      <th>tags</th>\n",
       "      <th>purchase_date</th>\n",
       "      <th>release_date</th>\n",
       "      <th>total_positive_reviews</th>\n",
       "      <th>total_negative_reviews</th>\n",
       "    </tr>\n",
       "  </thead>\n",
       "  <tbody>\n",
       "    <tr>\n",
       "      <th>90</th>\n",
       "      <td>90</td>\n",
       "      <td>32.766667</td>\n",
       "      <td>False</td>\n",
       "      <td>9900.0</td>\n",
       "      <td>RPG</td>\n",
       "      <td>Single-player,Steam Achievements,Full controll...</td>\n",
       "      <td>Open World,Post-apocalyptic,Exploration,Single...</td>\n",
       "      <td>Dec 7, 2017</td>\n",
       "      <td>9 Nov, 2015</td>\n",
       "      <td>68660.0</td>\n",
       "      <td>27235.0</td>\n",
       "    </tr>\n",
       "    <tr>\n",
       "      <th>221</th>\n",
       "      <td>221</td>\n",
       "      <td>31.983333</td>\n",
       "      <td>False</td>\n",
       "      <td>5000.0</td>\n",
       "      <td>Indie,RPG</td>\n",
       "      <td>Single-player,Steam Achievements,Steam Trading...</td>\n",
       "      <td>RPG,Turn-Based,Turn-Based Combat,Indie,Choices...</td>\n",
       "      <td>Mar 3, 2017</td>\n",
       "      <td>14 Oct, 2015</td>\n",
       "      <td>1651.0</td>\n",
       "      <td>382.0</td>\n",
       "    </tr>\n",
       "  </tbody>\n",
       "</table>\n",
       "</div>"
      ],
      "text/plain": [
       "      id  playtime_forever  is_free   price     genres  \\\n",
       "90    90         32.766667    False  9900.0        RPG   \n",
       "221  221         31.983333    False  5000.0  Indie,RPG   \n",
       "\n",
       "                                            categories  \\\n",
       "90   Single-player,Steam Achievements,Full controll...   \n",
       "221  Single-player,Steam Achievements,Steam Trading...   \n",
       "\n",
       "                                                  tags purchase_date  \\\n",
       "90   Open World,Post-apocalyptic,Exploration,Single...   Dec 7, 2017   \n",
       "221  RPG,Turn-Based,Turn-Based Combat,Indie,Choices...   Mar 3, 2017   \n",
       "\n",
       "     release_date  total_positive_reviews  total_negative_reviews  \n",
       "90    9 Nov, 2015                 68660.0                 27235.0  \n",
       "221  14 Oct, 2015                  1651.0                   382.0  "
      ]
     },
     "execution_count": 73,
     "metadata": {},
     "output_type": "execute_result"
    }
   ],
   "source": [
    "#delete outliers\n",
    "train_out = train.sort_values(by = 'playtime_forever', ascending = False)\n",
    "# train_out[0:6]\n",
    "train = train_out.drop(train_out.head(7).index)\n",
    "train.head(2)"
   ]
  },
  {
   "cell_type": "code",
   "execution_count": 74,
   "metadata": {},
   "outputs": [
    {
     "data": {
      "text/plain": [
       "90            [RPG]\n",
       "221    [Indie, RPG]\n",
       "Name: genres, dtype: object"
      ]
     },
     "execution_count": 74,
     "metadata": {},
     "output_type": "execute_result"
    }
   ],
   "source": [
    "#convert to list\n",
    "train.genres = train['genres'].str.split(',', expand=False)\n",
    "train.genres.head(2)"
   ]
  },
  {
   "cell_type": "code",
   "execution_count": 75,
   "metadata": {},
   "outputs": [
    {
     "data": {
      "text/plain": [
       "<matplotlib.axes._subplots.AxesSubplot at 0x1a1bdc0490>"
      ]
     },
     "execution_count": 75,
     "metadata": {},
     "output_type": "execute_result"
    },
    {
     "data": {
      "image/png": "[encoded data removed]",
      "text/plain": [
       "<Figure size 432x288 with 2 Axes>"
      ]
     },
     "metadata": {
      "needs_background": "light"
     },
     "output_type": "display_data"
    }
   ],
   "source": [
    "sns.heatmap(train.corr(), annot=True, vmax=1, square=True, cmap=\"Blues\")\n",
    "#find the strong relation: price and total_positive_reviews"
   ]
  },
  {
   "cell_type": "code",
   "execution_count": 76,
   "metadata": {},
   "outputs": [],
   "source": [
    "def countN(column):\n",
    "    count = dict()\n",
    "    for row in column:\n",
    "        for ele in row:\n",
    "            if ele in count:\n",
    "                count[ele] += 1\n",
    "            else:\n",
    "                count[ele] = 1\n",
    "    return count"
   ]
  },
  {
   "cell_type": "code",
   "execution_count": 77,
   "metadata": {},
   "outputs": [
    {
     "data": {
      "text/plain": [
       "<matplotlib.axes._subplots.AxesSubplot at 0x1a1a8e3490>"
      ]
     },
     "execution_count": 77,
     "metadata": {},
     "output_type": "execute_result"
    },
    {
     "data": {
      "image/png": "[encoded data removed]",
      "text/plain": [
       "<Figure size 432x288 with 1 Axes>"
      ]
     },
     "metadata": {
      "needs_background": "light"
     },
     "output_type": "display_data"
    }
   ],
   "source": [
    "#frequency of genres\n",
    "genres = pd.Series(countN(train.genres)).sort_values()\n",
    "genres_avg = genres/len(train)\n",
    "genres_avg.plot(kind='barh', title='Frequency of Genres')"
   ]
  },
  {
   "cell_type": "code",
   "execution_count": 78,
   "metadata": {},
   "outputs": [],
   "source": [
    "#convert to list\n",
    "train.categories = train['categories'].str.split(',', expand=False)"
   ]
  },
  {
   "cell_type": "code",
   "execution_count": 79,
   "metadata": {},
   "outputs": [
    {
     "data": {
      "text/plain": [
       "<matplotlib.axes._subplots.AxesSubplot at 0x1a1c6aaa90>"
      ]
     },
     "execution_count": 79,
     "metadata": {},
     "output_type": "execute_result"
    },
    {
     "data": {
      "image/png": "[encoded data removed]",
      "text/plain": [
       "<Figure size 432x288 with 1 Axes>"
      ]
     },
     "metadata": {
      "needs_background": "light"
     },
     "output_type": "display_data"
    }
   ],
   "source": [
    "#frequency of categories\n",
    "categories = pd.Series(countN(train.categories)).sort_values()\n",
    "categories_avg = categories/len(train)\n",
    "categories_avg.plot(kind='barh', title='Frequency of Categories')"
   ]
  },
  {
   "cell_type": "code",
   "execution_count": 80,
   "metadata": {},
   "outputs": [],
   "source": [
    "#for each game, use a binary array to represent genres, categories\n",
    "def binary(wordlist0, wordlist):\n",
    "    binary = []\n",
    "    for word in wordlist0.index:\n",
    "        if word in wordlist:\n",
    "            binary.append(1)\n",
    "        else:\n",
    "            binary.append(0)\n",
    "    return binary\n",
    "\n",
    "train['genres_bin'] = [binary(genres, x) for x in train.genres]\n",
    "train['categories_bin'] = [binary(categories, x) for x in train.categories]"
   ]
  },
  {
   "cell_type": "code",
   "execution_count": 81,
   "metadata": {},
   "outputs": [],
   "source": [
    "from scipy import spatial\n",
    "#define a function to calculate the angle between two games(dis-similarity)\n",
    "def angle(game1, game2):\n",
    "    dis_sim = 0\n",
    "    iterlist = [[game1.genres_bin, game2.genres_bin],\n",
    "               [game1.categories_bin, game2.categories_bin]]\n",
    "    for g1, g2 in iterlist:\n",
    "        if (1 not in g1) or (1 not in g2):\n",
    "            dis = 1\n",
    "        else:\n",
    "            dis = spatial.distance.cosine(g1, g2)\n",
    "        dis_sim += dis\n",
    "    return dis_sim"
   ]
  },
  {
   "cell_type": "code",
   "execution_count": 82,
   "metadata": {},
   "outputs": [
    {
     "name": "stdout",
     "output_type": "stream",
     "text": [
      "0.5428932188134525\n",
      "1.3027864045000421\n"
     ]
    }
   ],
   "source": [
    "#for example, dis-similarity between game0 and game1, game0 and game2\n",
    "print(angle(train.iloc[0], train.iloc[1]))\n",
    "print(angle(train.iloc[0], train.iloc[2]))"
   ]
  },
  {
   "cell_type": "code",
   "execution_count": 83,
   "metadata": {},
   "outputs": [],
   "source": [
    "#to predict the playtime in the future\n",
    "#for a game in the future, calculate all the angles betweeen all the other games,\n",
    "#and choose top5 angles, calculate the average as the predicted time.\n",
    "def predictor(new_game):\n",
    "    game_bin = pd.Series()\n",
    "    game_bin['genres_bin'] = binary(genres, new_game['genres'])\n",
    "    game_bin['categories_bin'] = binary(categories, new_game['categories'])\n",
    "    time = train.copy()\n",
    "    time['angle'] = [angle(time.iloc[i], game_bin) for i in range(len(time))]\n",
    "    time = time.sort_values('angle')\n",
    "    time_avg = np.mean(time[0:5])\n",
    "    return time_avg"
   ]
  },
  {
   "cell_type": "code",
   "execution_count": 84,
   "metadata": {},
   "outputs": [
    {
     "data": {
      "text/plain": [
       "id                          214.400000\n",
       "playtime_forever              4.666667\n",
       "is_free                       0.000000\n",
       "price                     10320.000000\n",
       "total_positive_reviews    73578.200000\n",
       "total_negative_reviews    25950.800000\n",
       "angle                         0.292893\n",
       "dtype: float64"
      ]
     },
     "execution_count": 84,
     "metadata": {},
     "output_type": "execute_result"
    }
   ],
   "source": [
    "#for example:\n",
    "gamenum1 = {'genres': ['Action', 'Adventure'], 'categories': ['Single-player', 'Full controller support']}\n",
    "predictor(gamenum1)"
   ]
  },
  {
   "cell_type": "code",
   "execution_count": 85,
   "metadata": {},
   "outputs": [],
   "source": [
    "test.genres = test['genres'].str.split(',', expand=False)\n",
    "test.categories = test['categories'].str.split(',', expand=False)"
   ]
  },
  {
   "cell_type": "code",
   "execution_count": 86,
   "metadata": {},
   "outputs": [
    {
     "name": "stdout",
     "output_type": "stream",
     "text": [
      "4.666666666666667\n",
      "2.1133333333333333\n",
      "0.38\n",
      "0.5266666666666666\n",
      "3.6799999999999997\n",
      "0.8866666666666667\n",
      "5.1\n",
      "1.6433333333333333\n",
      "9.023333333333333\n",
      "0.9666666666666668\n",
      "2.91\n",
      "0.13999999999999999\n",
      "0.8433333333333334\n",
      "1.0866666666666664\n",
      "2.6933333333333334\n",
      "0.8566666666666667\n",
      "1.7233333333333334\n",
      "1.01\n",
      "1.2933333333333334\n",
      "5.76\n",
      "0.0\n",
      "8.5\n",
      "0.2033333333333333\n",
      "0.36666666666666664\n",
      "0.4666666666666666\n",
      "0.12333333333333334\n",
      "1.92\n",
      "0.45333333333333325\n",
      "1.1533333333333335\n",
      "0.15\n",
      "1.5266666666666666\n",
      "1.9466666666666665\n",
      "0.7533333333333333\n",
      "0.45333333333333325\n",
      "8.713333333333333\n",
      "2.5366666666666666\n",
      "0.19\n",
      "6.786666666666667\n",
      "0.8433333333333334\n",
      "0.09666666666666665\n",
      "0.37\n",
      "0.64\n",
      "0.7766666666666667\n",
      "0.8433333333333334\n",
      "0.8800000000000001\n",
      "0.12333333333333334\n",
      "0.11000000000000001\n",
      "0.09333333333333334\n",
      "0.0\n",
      "1.27\n",
      "0.5266666666666666\n",
      "0.8700000000000001\n",
      "0.5266666666666666\n",
      "0.11333333333333333\n",
      "0.9466666666666667\n",
      "0.3433333333333334\n",
      "0.45333333333333325\n",
      "0.49000000000000005\n",
      "0.0\n",
      "1.5699999999999998\n",
      "0.22000000000000003\n",
      "4.673333333333334\n",
      "0.6066666666666667\n",
      "7.073333333333333\n",
      "0.52\n",
      "0.45333333333333325\n",
      "1.2166666666666668\n",
      "1.6600000000000001\n",
      "0.9433333333333334\n",
      "0.6366666666666665\n",
      "0.8433333333333334\n",
      "0.06666666666666667\n",
      "6.3966666666666665\n",
      "4.75\n",
      "5.679999999999999\n",
      "2.456666666666666\n",
      "2.306666666666667\n",
      "1.5100000000000002\n",
      "0.12666666666666665\n",
      "0.6366666666666665\n",
      "1.7033333333333336\n",
      "1.0866666666666664\n",
      "0.0\n",
      "1.6800000000000002\n",
      "3.62\n",
      "2.5533333333333337\n",
      "1.6433333333333333\n",
      "0.06666666666666667\n",
      "0.5733333333333334\n",
      "0.0\n"
     ]
    }
   ],
   "source": [
    "d = {}\n",
    "for idx in range(90):\n",
    "    d['genres'] = test.genres[idx]\n",
    "    d['categories'] = test.categories[idx]\n",
    "    print(predictor(d)['playtime_forever'])"
   ]
  },
  {
   "cell_type": "code",
   "execution_count": null,
   "metadata": {},
   "outputs": [],
   "source": []
  },
  {
   "cell_type": "code",
   "execution_count": null,
   "metadata": {},
   "outputs": [],
   "source": []
  }
 ],
 "metadata": {
  "kernelspec": {
   "display_name": "Python 3",
   "language": "python",
   "name": "python3"
  },
  "language_info": {
   "codemirror_mode": {
    "name": "ipython",
    "version": 2
   },
   "file_extension": ".py",
   "mimetype": "text/x-python",
   "name": "python",
   "nbconvert_exporter": "python",
   "pygments_lexer": "ipython2",
   "version": "2.7.16"
  }
 },
 "nbformat": 4,
 "nbformat_minor": 2
}
